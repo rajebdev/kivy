{
 "cells": [
  {
   "cell_type": "markdown",
   "metadata": {},
   "source": [
    "# DOKUMENTASI TUGAS KIVY PEMROGRAMAN BERORIENTASI OBJECT"
   ]
  },
  {
   "cell_type": "markdown",
   "metadata": {},
   "source": [
    "<img src=\"https://4.bp.blogspot.com/-5Sn3Ico1FN8/XBsjw46VZ1I/AAAAAAAACmQ/ril90-BWdpE2Ej0NE5qTMr32kcc9OyNCwCLcBGAs/s1600/doc_paint_1.PNG\"/>"
   ]
  },
  {
   "cell_type": "markdown",
   "metadata": {},
   "source": [
    "#GLOBAL VARIABEL\n",
    "-\tConfig.set('graphics', 'resizable', False) untuk merize\n",
    "-\tConfig.set('graphics', 'width', '960') untuk mengatur lebar windows\n",
    "-\tConfig.set('graphics', 'height', '540') untuk mengatur tinggi windows\n",
    "-\tConfig.set('input', 'mouse', 'mouse,disable_multitouch')"
   ]
  },
  {
   "cell_type": "markdown",
   "metadata": {},
   "source": [
    "#CLASS AND METHOD DI PAINT"
   ]
  },
  {
   "cell_type": "markdown",
   "metadata": {},
   "source": [
    "1. Class CanvasWidget\n",
    "\n",
    "    Class CanvasWidget class yang memproses semua yang mengenai pewarnaan pada widget\n",
    "    Merupakan turunan dari class widget uix\n",
    "    \n",
    "    Memiliki Method :\n",
    "    \n",
    "        a. + on_touch_down = method yang mengakses ketika terjadi sentuhan\n",
    "        b. + set_line_width = method yang digunakan untuk mengatur lebar garis\n",
    "        c. + set_shape = method yang digunakan untuk mengatur bentuk shape\n",
    "        d. + on_touch_move = method yang digunakan untuk ketika terjadi sebuah sentuhan ditahan sambil bergerak\n",
    "        e. +clear_canvas = method yang digunakan untuk membersikan pewarnaan pada canvas\n",
    "        f. + save_png = method yang digunakan untuk menyimpan gambar yang telah dibuat menjadi sebuah gambar Png\n",
    "        g. +create_outline = method yang digunakan untuk pembuatan garis tepi supaya saat menggambar tinggal lewat dari garis yang sudah ditentukan.\n",
    "        h. +set_color = method untuk menentukan warna yang akan digunakan oleh pengguna\n",
    "    \n",
    "    Memiliki property :\n",
    "    \n",
    "        a. line_width = mengatur lebar line atau tebal pena\n",
    "        b. color_paint = mengatur warna\n",
    "        c. shape = mengatur shape\n",
    "        d. defaut_size = mengeset ukuran awal dari shape\n",
    "        e. start_x = memulai posisi koordinat x\n",
    "        f. start_y = memulai posisi koordinat y"
   ]
  },
  {
   "cell_type": "markdown",
   "metadata": {},
   "source": [
    "2. Class RadioButton\n",
    "\n",
    "    Class RadiButton digunakan saat mengklik Button\n",
    "    Yang merupakan turunan dari kelas kivy togglebutton.\n",
    "    \n",
    "    Memiliki method:\n",
    "        - do_press = untuk melakukan pengklikan button, dimana ketika statenya normal maka boleh dilakukan pengklikan."
   ]
  },
  {
   "cell_type": "markdown",
   "metadata": {},
   "source": [
    "3. Class PaintApp\n",
    "\n",
    "    Class PaintApp digunakan untuk pemanggilan app.\n",
    "    Yang merupakan turunan dari class kivy App\n",
    "    \n",
    "    Memiliki method :\n",
    "        - Build : digunakan untuk membuat gambar"
   ]
  },
  {
   "cell_type": "markdown",
   "metadata": {},
   "source": [
    "#### Control Pada Layout Paint\n",
    "\n",
    "    A. Class Color Button\n",
    "       Merupakan class button untuk mengelompokkan button color. Button ini akan memanggil method set_color pada canvas widget.\n",
    "    B. Class Line Width Button\n",
    "       Merupakan class button untuk mengatur ukuran tebal garis. Button ini akan memanggil method set_line_width pada canvas \n",
    "       widget.\n",
    "    C. Class Shape Button\n",
    "       Merupakan class button untuk mengatur bentuk yang mau digunakan.\n",
    "       Button ini akan memanggil method set shape pada canvas widget.\n",
    "    D. Class Canvas Widget\n",
    "        Merupakan class utama tempat semua control layout berada. Pada class ini semua button maupun control yang lain diatur\n",
    "        dan ditampilkan.\n",
    "    E. Control Lain\n",
    "        a. Box Layout digunakan untuk mengelompokkan beberapa control\n",
    "        b. Button digunakan untuk membuat sebuah control button untuk fungsi pengguna."
   ]
  },
  {
   "cell_type": "markdown",
   "metadata": {},
   "source": [
    "#### Sumber Referensi Kivy Paint:\n",
    "    Nama Buku : Kivy Blueprints\n",
    "    Pengarang : Mark Vasilkov\n",
    "    Published : January 2015\n",
    "    Sumber : www.packtpub.com"
   ]
  }
 ],
 "metadata": {
  "kernelspec": {
   "display_name": "Python 3",
   "language": "python",
   "name": "python3"
  },
  "language_info": {
   "codemirror_mode": {
    "name": "ipython",
    "version": 3
   },
   "file_extension": ".py",
   "mimetype": "text/x-python",
   "name": "python",
   "nbconvert_exporter": "python",
   "pygments_lexer": "ipython3",
   "version": "3.6.5"
  }
 },
 "nbformat": 4,
 "nbformat_minor": 2
}
