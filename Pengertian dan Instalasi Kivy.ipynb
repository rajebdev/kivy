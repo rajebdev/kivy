{
 "cells": [
  {
   "cell_type": "markdown",
   "metadata": {},
   "source": [
    "# KIVY"
   ]
  },
  {
   "cell_type": "markdown",
   "metadata": {},
   "source": [
    "#### PENGERTIAN KIVY ####"
   ]
  },
  {
   "cell_type": "markdown",
   "metadata": {},
   "source": [
    "##### Apa itu Kivy?  #####\n",
    "\n",
    "Kivy adalah modul atau pustaka open source pada Python yang digunakan untuk membuat atau mengembangkan aplikasi seluler.\n",
    "Kivy dapat berjalan di Windows, OS X, Android, iOS, dan Raspberry Pi. Kita juga dapat menjalankan kode yang sama pada semua platform yang berbeda pula.\n",
    "\n",
    "Berikut adalah beberapa kelebihan Kivy:\n",
    "\n",
    "    a.\tCross-platform, code once run anywhere.\n",
    "    b.\tSupport berbagai ragam input device dan juga multitouch support.\n",
    "    c.\tMenggunakan OpenGL ES sebagai graphics engine-nya.\n",
    "    d.\tMenggunakan bahasa Python, cocok bagi pemula seperti saya.\n",
    "    e.\t3rd party Python library goodness!\n",
    "\n",
    "Kivy juga mempunyai beberapa kelemahan :\n",
    "\n",
    "    a.\tTidak memiliki 100% API support pada iOS (plyer).\n",
    "    b.\tMemiliki startup time yang agak sedikit lebih lama daripada aplikasi native dikarenakan menggunakan wrapper dan Python.\n",
    "    c.\tTentunya memiliki performa dibawah aplikasi native, namun tidak akan terasa jika hanya sebatas game ringan atau everyday apps."
   ]
  },
  {
   "cell_type": "markdown",
   "metadata": {},
   "source": [
    "Berikut langkah-langkah untuk menginstall kivy di python :\n",
    "\n",
    "    1.\tPastikan anda sudah menginstall python\n",
    "    2.\tBuka CMD dengan cara tekan tombol “windows+r” ketik “cmd” lalu tekan enter.\n",
    "    3.\tPada tampilan cmd ketikkan perintah dibawah ini lalu tekan enter.\n",
    "        \"python -m pip install --upgrade pip wheel setuptools\""
   ]
  },
  {
   "cell_type": "markdown",
   "metadata": {},
   "source": [
    "<img src=\"https://4.bp.blogspot.com/-LkgAX9EV3-M/XBsT1_dqCoI/AAAAAAAACkc/cejf8TbRKfQzbYfw9PmovDE_PE0Yw3LmACLcBGAs/s1600/kivy_1.jpg\" width=\"640\" height=\"480\"/>"
   ]
  },
  {
   "cell_type": "markdown",
   "metadata": {},
   "source": [
    "        Pastikan bahwa perangkat anda terhubung ke internet, lau tunggu sampai prosesnya selesai."
   ]
  },
  {
   "cell_type": "markdown",
   "metadata": {},
   "source": [
    "    4.\tJika langkah diatas sudah selesai, ketikkan perintah berikut pada cmd pula, tunggu hingga proses selesai.\n",
    "        \"python -m pip install docutils pygments pypiwin32 kivy.deps.sdl2 kivy.deps.glew\""
   ]
  },
  {
   "cell_type": "markdown",
   "metadata": {},
   "source": [
    "<img src=\"https://1.bp.blogspot.com/-4mO4XUq_9uM/XBsT15EEynI/AAAAAAAACkk/JBwoJ86n4xw4L5gQhfzR3bP6qNk10c7pACLcBGAs/s1600/kivy_2.jpg\" width=\"640\" height=\"480\"/>"
   ]
  },
  {
   "cell_type": "markdown",
   "metadata": {},
   "source": [
    "    5.\tSama seperti sebelumnya\n",
    "        \"python -m pip install kivy.deps.gstreamer --extra-index-url https://kivy.org/downloads/packages/simple/\""
   ]
  },
  {
   "cell_type": "markdown",
   "metadata": {},
   "source": [
    "<img src=\"https://3.bp.blogspot.com/-en9niiSXFlo/XBsT27QOxLI/AAAAAAAACko/C-BJ9hw558o52ivj-dkZosfKBP45818MACLcBGAs/s1600/kivy_3.jpg\" width=\"640\" height=\"480\"/>"
   ]
  },
  {
   "cell_type": "markdown",
   "metadata": {},
   "source": [
    "    6.\tLangkah terakhir\n",
    "        \"python -m pip install kivy\""
   ]
  },
  {
   "cell_type": "markdown",
   "metadata": {},
   "source": [
    "<img src=\"https://1.bp.blogspot.com/-Xf36ViFNlnA/XBsT3O40vnI/AAAAAAAACks/XTd93uDGe_4V2Iz4hPdfUyRcNJKEDL-kACLcBGAs/s1600/kivy_4.jpg\" width=\"640\" height=\"480\"/>"
   ]
  },
  {
   "cell_type": "markdown",
   "metadata": {},
   "source": [
    "        Untuk memastikan bahwa Kivy suda terinstall dengan benar silahkan buka “cmd” lalu ketik python dan enter."
   ]
  },
  {
   "cell_type": "markdown",
   "metadata": {},
   "source": [
    "<img src=\"https://3.bp.blogspot.com/-PJxcPD21iMM/XBsT3BP2g9I/AAAAAAAACkw/0ezNuAhywfs-3luAGDPG6URU08dHGewQgCLcBGAs/s1600/kivy_5.jpg\" width=\"640\" height=\"480\"/>"
   ]
  },
  {
   "cell_type": "markdown",
   "metadata": {},
   "source": [
    "        Ketik import kivy lalu enter."
   ]
  },
  {
   "cell_type": "markdown",
   "metadata": {},
   "source": [
    "<img src=\"https://3.bp.blogspot.com/-B_ebvQEQZBA/XBsT3rH_h-I/AAAAAAAACk0/KBqcYZPq71cLEDJ68nwshlMnfwDO9x0JACLcBGAs/s1600/kivy_6.jpg\" width=\"640\" height=\"480\"/>"
   ]
  },
  {
   "cell_type": "markdown",
   "metadata": {},
   "source": [
    "        Jika kivy sudah terinstall maka tampilannya akan seperti diatas. Tetapi jika belum terinstall maka tampilannya kan\n",
    "        seperti dibawah ini."
   ]
  },
  {
   "cell_type": "markdown",
   "metadata": {},
   "source": [
    "<img src=\"https://3.bp.blogspot.com/-lzXrMw5XFUI/XBsT3jLXXUI/AAAAAAAACk4/Of3m9PSnRs0Th1eZgC70Jq7r5V7xOfsoACLcBGAs/s1600/kivy_7.jpg\" width=\"640\" height=\"480\"/>"
   ]
  },
  {
   "cell_type": "markdown",
   "metadata": {},
   "source": [
    "        Modul tidak ditemukan.\n",
    "        Jika modul tidak ditemukan bisa lakukan proses dari awl lagi seperti diatas."
   ]
  }
 ],
 "metadata": {
  "kernelspec": {
   "display_name": "Python 3",
   "language": "python",
   "name": "python3"
  },
  "language_info": {
   "codemirror_mode": {
    "name": "ipython",
    "version": 3
   },
   "file_extension": ".py",
   "mimetype": "text/x-python",
   "name": "python",
   "nbconvert_exporter": "python",
   "pygments_lexer": "ipython3",
   "version": "3.6.5"
  }
 },
 "nbformat": 4,
 "nbformat_minor": 2
}
