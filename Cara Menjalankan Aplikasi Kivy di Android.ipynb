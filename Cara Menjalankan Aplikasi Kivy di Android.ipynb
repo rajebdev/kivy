{
 "cells": [
  {
   "cell_type": "markdown",
   "metadata": {},
   "source": [
    "## Menjalankan Aplikasi Kivy di Android"
   ]
  },
  {
   "cell_type": "markdown",
   "metadata": {},
   "source": [
    "1. Siapkan file program kivy python baik .py atupun ada .kv letakkan ke dalam sebuah folder"
   ]
  },
  {
   "cell_type": "markdown",
   "metadata": {},
   "source": [
    "<img src=\"https://3.bp.blogspot.com/-RVW3bJOKw3I/XBsueJ2xp5I/AAAAAAAACnc/vELdkZ370_UwWxfXaxf6ezv6yQpfEfs6gCLcBGAs/s1600/kivy_launcher_1.png\" />"
   ]
  },
  {
   "cell_type": "markdown",
   "metadata": {},
   "source": [
    "2. Buat file text baru dengan nama \"android.txt\" dengan Aplikasi Notepad yang berisi:\n",
    "\n",
    "    ##### title=Judul Aplikasi\n",
    "    ##### author=Nama Pemilik\n",
    "    ##### orientation=landscape\n",
    "    "
   ]
  },
  {
   "cell_type": "markdown",
   "metadata": {},
   "source": [
    "<img src=\"https://2.bp.blogspot.com/-UJz5Hu7xpBk/XBsueA7e52I/AAAAAAAACng/Jtvi4tQZmmI9Efehv8KJ-T1jTLP3syyzwCLcBGAs/s1600/kivy_launcher_2.png\" />"
   ]
  },
  {
   "cell_type": "markdown",
   "metadata": {},
   "source": [
    "3. Download Aplikasi \"Kivy Launcher\" di Play Store"
   ]
  },
  {
   "cell_type": "markdown",
   "metadata": {},
   "source": [
    "<img src=\"https://4.bp.blogspot.com/-YSrfGkqQuSo/XBsueWO75YI/AAAAAAAACnk/FbGYqazUcpMuzdsAalUJZBEgGrKj4fC_QCLcBGAs/s1600/kivy_launcher_3.jpeg\"/>"
   ]
  },
  {
   "cell_type": "markdown",
   "metadata": {},
   "source": [
    "4. Kirim folder program tadi yang berisi semua file program kivy dan file android.txt ke Android."
   ]
  },
  {
   "cell_type": "markdown",
   "metadata": {},
   "source": [
    "<img src=\"https://4.bp.blogspot.com/-YLm-MvJOcQY/XBsue--QlFI/AAAAAAAACno/0vH73ce00bcJMXlVs3ejxm2on29XiMxDgCLcBGAs/s1600/kivy_launcher_4.jpeg\"/>"
   ]
  },
  {
   "cell_type": "markdown",
   "metadata": {},
   "source": [
    "5. Salin atau pindahkan folder tadi ke memory internal pada folder kivy\n",
    "    Kalau tidak ada folder kivy, buatlah terlebih dahulu."
   ]
  },
  {
   "cell_type": "markdown",
   "metadata": {},
   "source": [
    "<img src=\"https://1.bp.blogspot.com/-hbE00qI4B7o/XBsue6yhH_I/AAAAAAAACns/XO-eltiBPqIwPNQuVXwWV6PTTbHHYEIPgCLcBGAs/s1600/kivy_launcher_5.jpeg\"/>"
   ]
  },
  {
   "cell_type": "markdown",
   "metadata": {},
   "source": [
    "6. Buka Aplikasi Kivy Launcher di Android"
   ]
  },
  {
   "cell_type": "markdown",
   "metadata": {},
   "source": [
    "<img src=\"https://3.bp.blogspot.com/-CAibZeRGDSM/XBsue4WY98I/AAAAAAAACnw/wZZXzfhituwtShQdMdu11fa5rKY0Zbd0QCLcBGAs/s1600/kivy_launcher_6.jpeg\"/>"
   ]
  },
  {
   "cell_type": "markdown",
   "metadata": {},
   "source": [
    " 7. Kemudian Pilih Program Kivy dengan judul masing-masing."
   ]
  },
  {
   "cell_type": "markdown",
   "metadata": {},
   "source": [
    "<img src=\"https://2.bp.blogspot.com/-zt4lOpPjPoQ/XBsufRVR0-I/AAAAAAAACn0/tOfHkobNTqwVn1g4pJ7Q3cFLSEY7xSCOACLcBGAs/s1600/kivy_launcher_7.jpeg\"/>"
   ]
  },
  {
   "cell_type": "markdown",
   "metadata": {},
   "source": [
    "8. Contoh Aplikasi Paint di Android"
   ]
  },
  {
   "cell_type": "markdown",
   "metadata": {},
   "source": [
    "<img src=\"https://2.bp.blogspot.com/-JQ6iWr7HCec/XBsufyABW_I/AAAAAAAACn4/X9q_3nGB1OEGwYniIb_ODiSKvXM3w3WQwCLcBGAs/s1600/kivy_launcher_8.jpeg\"/>"
   ]
  }
 ],
 "metadata": {
  "kernelspec": {
   "display_name": "Python 3",
   "language": "python",
   "name": "python3"
  },
  "language_info": {
   "codemirror_mode": {
    "name": "ipython",
    "version": 3
   },
   "file_extension": ".py",
   "mimetype": "text/x-python",
   "name": "python",
   "nbconvert_exporter": "python",
   "pygments_lexer": "ipython3",
   "version": "3.6.5"
  }
 },
 "nbformat": 4,
 "nbformat_minor": 2
}
